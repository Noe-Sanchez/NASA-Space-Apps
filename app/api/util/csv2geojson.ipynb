{
 "cells": [
  {
   "metadata": {
    "ExecuteTime": {
     "end_time": "2025-10-05T16:23:23.998336Z",
     "start_time": "2025-10-05T16:23:23.824402Z"
    }
   },
   "cell_type": "code",
   "source": [
    "import pandas as pd\n",
    "import json\n",
    "\n",
    "df = pd.read_csv('shark_foraging_areas_detailed.csv')\n",
    "\n",
    "result = []\n",
    "for shark_id, group in df.groupby('shark_id'):\n",
    "    shark_dict = {\n",
    "        \"id\": str(shark_id),\n",
    "        \"location\": []\n",
    "    }\n",
    "    for _, row in group.iterrows():\n",
    "        feature = {\n",
    "            \"type\": \"Feature\",\n",
    "            \"geometry\": {\n",
    "                \"type\": \"Point\",\n",
    "                \"coordinates\": [row['longitude'], row['latitude']]\n",
    "            },\n",
    "            \"properties\": {k: row[k] for k in df.columns if k not in ['shark_id', 'latitude', 'longitude']}\n",
    "        }\n",
    "        shark_dict[\"location\"].append(feature)\n",
    "    result.append(shark_dict)\n",
    "\n",
    "with open('shark.geojson', 'w') as f:\n",
    "    json.dump(result, f, indent=2)"
   ],
   "id": "9bfda5cabafa40bc",
   "outputs": [],
   "execution_count": 2
  }
 ],
 "metadata": {
  "kernelspec": {
   "display_name": "Python 3",
   "language": "python",
   "name": "python3"
  },
  "language_info": {
   "codemirror_mode": {
    "name": "ipython",
    "version": 2
   },
   "file_extension": ".py",
   "mimetype": "text/x-python",
   "name": "python",
   "nbconvert_exporter": "python",
   "pygments_lexer": "ipython2",
   "version": "2.7.6"
  }
 },
 "nbformat": 4,
 "nbformat_minor": 5
}
